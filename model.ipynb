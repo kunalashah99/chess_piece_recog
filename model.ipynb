{
 "cells": [
  {
   "cell_type": "code",
   "execution_count": 16,
   "metadata": {},
   "outputs": [],
   "source": [
    "import cv2\n",
    "import torch\n",
    "import torch.nn as nn\n",
    "import numpy as np\n",
    "import matplotlib.pyplot as plt\n",
    "import random\n",
    "import os\n",
    "import pickle as pkl\n",
    "from torchsummary import summary\n"
   ]
  },
  {
   "cell_type": "code",
   "execution_count": 9,
   "metadata": {},
   "outputs": [],
   "source": [
    "x = pkl.load(open('x.pkl','rb'))\n",
    "y = pkl.load(open('y.pkl','rb'))\n",
    "x = x/255"
   ]
  },
  {
   "cell_type": "code",
   "execution_count": 11,
   "metadata": {},
   "outputs": [
    {
     "data": {
      "text/plain": [
       "(456, 100, 100)"
      ]
     },
     "execution_count": 11,
     "metadata": {},
     "output_type": "execute_result"
    }
   ],
   "source": [
    "x.shape"
   ]
  },
  {
   "cell_type": "code",
   "execution_count": 21,
   "metadata": {},
   "outputs": [],
   "source": [
    "class NeuralNet(nn.Module):\n",
    "    def __init__(self):\n",
    "        super(NeuralNet, self).__init__()\n",
    "        self.conv = nn.Conv2d(1, 28, kernel_size=5)\n",
    "        self.pool = nn.MaxPool2d(2)\n",
    "        self.conv2 = nn.Conv2d(28, 56, kernel_size=5)\n",
    "        self.pool2 = nn.MaxPool2d(2)\n",
    "        self.hidden= nn.Linear(56*22*22, 300)\n",
    "        self.drop = nn.Dropout(0.2)\n",
    "        self.hidden2 = nn.Linear(300, 100)\n",
    "        self.out = nn.Linear(100, 6)\n",
    "        self.act = nn.ReLU()\n",
    "\n",
    "    def forward(self, x):\n",
    "        x = self.act(self.conv(x)) # [batch_size, 28, 96, 96]\n",
    "        x = self.pool(x) # [batch_size, 28, 48, 48]\n",
    "        x = self.act(self.conv2(x)) # [batch_size, 56, 44, 44]\n",
    "        x = self.pool(x)# [batch_size, 56, 22, 22]\n",
    "        x = x.view(x.size(0), -1) # [batch_size, 28*13*13=4732]\n",
    "        x = self.act(self.hidden(x))# [batch_size, 128]\n",
    "        x = self.act(self.hidden2(x)) \n",
    "        x = self.drop(x)\n",
    "        x = self.out(x) # [batch_size, 10]\n",
    "        return x\n"
   ]
  },
  {
   "cell_type": "code",
   "execution_count": 22,
   "metadata": {},
   "outputs": [],
   "source": [
    "model = NeuralNet()"
   ]
  },
  {
   "cell_type": "code",
   "execution_count": 23,
   "metadata": {},
   "outputs": [
    {
     "name": "stdout",
     "output_type": "stream",
     "text": [
      "----------------------------------------------------------------\n",
      "        Layer (type)               Output Shape         Param #\n",
      "================================================================\n",
      "            Conv2d-1           [-1, 28, 96, 96]             728\n",
      "              ReLU-2           [-1, 28, 96, 96]               0\n",
      "         MaxPool2d-3           [-1, 28, 48, 48]               0\n",
      "            Conv2d-4           [-1, 56, 44, 44]          39,256\n",
      "              ReLU-5           [-1, 56, 44, 44]               0\n",
      "         MaxPool2d-6           [-1, 56, 22, 22]               0\n",
      "            Linear-7                  [-1, 300]       8,131,500\n",
      "              ReLU-8                  [-1, 300]               0\n",
      "            Linear-9                  [-1, 100]          30,100\n",
      "             ReLU-10                  [-1, 100]               0\n",
      "          Dropout-11                  [-1, 100]               0\n",
      "           Linear-12                    [-1, 6]             606\n",
      "================================================================\n",
      "Total params: 8,202,190\n",
      "Trainable params: 8,202,190\n",
      "Non-trainable params: 0\n",
      "----------------------------------------------------------------\n",
      "Input size (MB): 0.04\n",
      "Forward/backward pass size (MB): 6.30\n",
      "Params size (MB): 31.29\n",
      "Estimated Total Size (MB): 37.62\n",
      "----------------------------------------------------------------\n"
     ]
    }
   ],
   "source": [
    "summary(model, (1, 100, 100))"
   ]
  },
  {
   "cell_type": "code",
   "execution_count": null,
   "metadata": {},
   "outputs": [],
   "source": []
  }
 ],
 "metadata": {
  "kernelspec": {
   "display_name": "Python 3.8.13 ('intro')",
   "language": "python",
   "name": "python3"
  },
  "language_info": {
   "codemirror_mode": {
    "name": "ipython",
    "version": 3
   },
   "file_extension": ".py",
   "mimetype": "text/x-python",
   "name": "python",
   "nbconvert_exporter": "python",
   "pygments_lexer": "ipython3",
   "version": "3.8.13"
  },
  "orig_nbformat": 4,
  "vscode": {
   "interpreter": {
    "hash": "aeb5268d59bfb7e8b35a1cf3133e3930c0b4464f52a295197c6b40f64f6a492a"
   }
  }
 },
 "nbformat": 4,
 "nbformat_minor": 2
}
