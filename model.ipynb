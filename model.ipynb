{
 "cells": [
  {
   "cell_type": "markdown",
   "metadata": {},
   "source": [
    "# Imports"
   ]
  },
  {
   "cell_type": "code",
   "execution_count": 156,
   "metadata": {},
   "outputs": [],
   "source": [
    "import cv2\n",
    "import torch\n",
    "import torch.nn as nn\n",
    "import numpy as np\n",
    "import matplotlib.pyplot as plt\n",
    "import random\n",
    "import os\n",
    "import pickle as pkl\n",
    "from torchsummary import summary\n"
   ]
  },
  {
   "cell_type": "markdown",
   "metadata": {},
   "source": [
    "# Importing randomised data"
   ]
  },
  {
   "cell_type": "code",
   "execution_count": 161,
   "metadata": {},
   "outputs": [],
   "source": [
    "x = pkl.load(open('x.pkl','rb'))\n",
    "y = pkl.load(open('y.pkl','rb'))\n",
    "x = x/255"
   ]
  },
  {
   "cell_type": "code",
   "execution_count": 85,
   "metadata": {},
   "outputs": [
    {
     "name": "stdout",
     "output_type": "stream",
     "text": [
      "torch.Size([100, 100])\n"
     ]
    }
   ],
   "source": [
    "test_data = x[1]\n",
    "print(test_data.shape)"
   ]
  },
  {
   "cell_type": "code",
   "execution_count": 86,
   "metadata": {},
   "outputs": [
    {
     "data": {
      "text/plain": [
       "torch.Size([1, 100, 100])"
      ]
     },
     "execution_count": 86,
     "metadata": {},
     "output_type": "execute_result"
    }
   ],
   "source": [
    "test_data.reshape(1,100,100).shape"
   ]
  },
  {
   "cell_type": "code",
   "execution_count": 146,
   "metadata": {},
   "outputs": [
    {
     "data": {
      "text/plain": [
       "torch.Size([1, 456])"
      ]
     },
     "execution_count": 146,
     "metadata": {},
     "output_type": "execute_result"
    }
   ],
   "source": [
    "\n",
    "y.reshape(1,456).shape"
   ]
  },
  {
   "cell_type": "markdown",
   "metadata": {},
   "source": [
    "# Setting the parameters"
   ]
  },
  {
   "cell_type": "code",
   "execution_count": 171,
   "metadata": {},
   "outputs": [],
   "source": [
    "learning_rate = 0.001\n",
    "num_epochs = int(100)\n",
    "conv1layers = 28\n",
    "conv2layers = 56\n",
    "kernel1=5\n",
    "kernel2 = 5\n",
    "flat = int(conv2layers * ((((len(x[0])-kernel1+1)/2)-(kernel2-1))/2)*((((len(x[0])-kernel1+1)/2)-(kernel2-1))/2))\n",
    "hid1 = 300\n",
    "hid2 = 100\n",
    "output = 6  \n"
   ]
  },
  {
   "cell_type": "markdown",
   "metadata": {},
   "source": [
    "# Model initialising"
   ]
  },
  {
   "cell_type": "code",
   "execution_count": 172,
   "metadata": {},
   "outputs": [],
   "source": [
    "class NeuralNet(nn.Module):\n",
    "    def __init__(self, conv1layers, conv2layers,kernel1,kernel2,flat,hid1,hid2,output):\n",
    "        super(NeuralNet, self).__init__()\n",
    "        self.conv = nn.Conv2d(1, conv1layers, kernel_size=kernel1)\n",
    "        self.pool = nn.MaxPool2d(2)\n",
    "        self.conv2 = nn.Conv2d(conv1layers, conv2layers, kernel_size=kernel2)\n",
    "        self.pool2 = nn.MaxPool2d(2)\n",
    "        self.hidden= nn.Linear(flat, hid1)\n",
    "        self.drop = nn.Dropout(0.2)\n",
    "        self.hidden2 = nn.Linear(hid1, hid2)\n",
    "        self.out = nn.Linear(hid2, output)\n",
    "        self.act = nn.ReLU()\n",
    "\n",
    "    def forward(self, x):\n",
    "        x = self.act(self.conv(x)) # [batch_size, 28, 96, 96]\n",
    "        x = self.pool(x) # [batch_size, 28, 48, 48]\n",
    "        x = self.act(self.conv2(x)) # [batch_size, 56, 44, 44]\n",
    "        x = self.pool(x)# [batch_size, 56, 22, 22]\n",
    "        x = x.view(-1,flat) # [batch_size, 56*22*22=27104]\n",
    "        x = self.act(self.hidden(x))# [batch_size, 128]\n",
    "        x = self.act(self.hidden2(x)) \n",
    "        x = self.drop(x)\n",
    "        x = self.out(x) # [batch_size, 10]\n",
    "        return x\n"
   ]
  },
  {
   "cell_type": "markdown",
   "metadata": {},
   "source": [
    "# Loss and Optimiser"
   ]
  },
  {
   "cell_type": "code",
   "execution_count": 173,
   "metadata": {},
   "outputs": [],
   "source": [
    "model = NeuralNet(conv1layers, conv2layers,kernel1,kernel2,flat,hid1,hid2,output)\n",
    "criterion = nn.CrossEntropyLoss()\n",
    "optimiser = torch.optim.Adam(model.parameters(), lr = learning_rate)"
   ]
  },
  {
   "cell_type": "markdown",
   "metadata": {},
   "source": [
    "# Model summary"
   ]
  },
  {
   "cell_type": "code",
   "execution_count": 174,
   "metadata": {},
   "outputs": [
    {
     "name": "stdout",
     "output_type": "stream",
     "text": [
      "----------------------------------------------------------------\n",
      "        Layer (type)               Output Shape         Param #\n",
      "================================================================\n",
      "            Conv2d-1           [-1, 28, 96, 96]             728\n",
      "              ReLU-2           [-1, 28, 96, 96]               0\n",
      "         MaxPool2d-3           [-1, 28, 48, 48]               0\n",
      "            Conv2d-4           [-1, 56, 44, 44]          39,256\n",
      "              ReLU-5           [-1, 56, 44, 44]               0\n",
      "         MaxPool2d-6           [-1, 56, 22, 22]               0\n",
      "            Linear-7                  [-1, 300]       8,131,500\n",
      "              ReLU-8                  [-1, 300]               0\n",
      "            Linear-9                  [-1, 100]          30,100\n",
      "             ReLU-10                  [-1, 100]               0\n",
      "          Dropout-11                  [-1, 100]               0\n",
      "           Linear-12                    [-1, 6]             606\n",
      "================================================================\n",
      "Total params: 8,202,190\n",
      "Trainable params: 8,202,190\n",
      "Non-trainable params: 0\n",
      "----------------------------------------------------------------\n",
      "Input size (MB): 0.04\n",
      "Forward/backward pass size (MB): 6.30\n",
      "Params size (MB): 31.29\n",
      "Estimated Total Size (MB): 37.62\n",
      "----------------------------------------------------------------\n"
     ]
    }
   ],
   "source": [
    "summary(model, (1,100, 100))"
   ]
  },
  {
   "cell_type": "code",
   "execution_count": 175,
   "metadata": {},
   "outputs": [
    {
     "name": "stdout",
     "output_type": "stream",
     "text": [
      "0 : 1.7707208395004272\n",
      "1 : 1.7847192287445068\n",
      "2 : 1.7791589498519897\n",
      "3 : 1.7911111116409302\n",
      "4 : 1.7913271188735962\n",
      "5 : 1.7844432592391968\n",
      "6 : 1.7921183109283447\n",
      "7 : 1.79520845413208\n",
      "8 : 1.7980763912200928\n",
      "9 : 1.793704867362976\n",
      "10 : 1.7876262664794922\n",
      "11 : 1.7931119203567505\n",
      "12 : 1.7932331562042236\n",
      "13 : 1.7742842435836792\n",
      "14 : 1.7958743572235107\n",
      "15 : 1.7902929782867432\n",
      "16 : 1.774454116821289\n",
      "17 : 1.7840914726257324\n",
      "18 : 1.7831543684005737\n",
      "19 : 1.78847074508667\n",
      "20 : 1.791055679321289\n",
      "21 : 1.78573477268219\n",
      "22 : 1.7878117561340332\n",
      "23 : 1.786870002746582\n",
      "24 : 1.7855170965194702\n",
      "25 : 1.7866586446762085\n",
      "26 : 1.7875447273254395\n",
      "27 : 1.7870557308197021\n",
      "28 : 1.7964283227920532\n",
      "29 : 1.7853400707244873\n",
      "30 : 1.7854433059692383\n",
      "31 : 1.7932275533676147\n",
      "32 : 1.792993187904358\n",
      "33 : 1.794203519821167\n",
      "34 : 1.7956064939498901\n",
      "35 : 1.805087924003601\n",
      "36 : 1.8011318445205688\n",
      "37 : 1.796863317489624\n",
      "38 : 1.7807878255844116\n",
      "39 : 1.7937997579574585\n",
      "40 : 1.7890069484710693\n",
      "41 : 1.7882061004638672\n",
      "42 : 1.795055627822876\n",
      "43 : 1.7925889492034912\n",
      "44 : 1.7910277843475342\n",
      "45 : 1.7949799299240112\n",
      "46 : 1.798048734664917\n",
      "47 : 1.7829095125198364\n",
      "48 : 1.7908388376235962\n",
      "49 : 1.7889912128448486\n",
      "50 : 1.790264368057251\n",
      "51 : 1.7872411012649536\n",
      "52 : 1.7863526344299316\n",
      "53 : 1.7873072624206543\n",
      "54 : 1.7880847454071045\n",
      "55 : 1.7887182235717773\n",
      "56 : 1.7892342805862427\n",
      "57 : 1.7896546125411987\n",
      "58 : 1.789996862411499\n"
     ]
    },
    {
     "ename": "KeyboardInterrupt",
     "evalue": "",
     "output_type": "error",
     "traceback": [
      "\u001b[0;31m---------------------------------------------------------------------------\u001b[0m",
      "\u001b[0;31mKeyboardInterrupt\u001b[0m                         Traceback (most recent call last)",
      "\u001b[1;32m/Users/kunalshah/Desktop/robotics lab/chess_piece_recog/model.ipynb Cell 16\u001b[0m in \u001b[0;36m<cell line: 1>\u001b[0;34m()\u001b[0m\n\u001b[1;32m      <a href='vscode-notebook-cell:/Users/kunalshah/Desktop/robotics%20lab/chess_piece_recog/model.ipynb#X10sZmlsZQ%3D%3D?line=5'>6</a>\u001b[0m     \u001b[39m#backward\u001b[39;00m\n\u001b[1;32m      <a href='vscode-notebook-cell:/Users/kunalshah/Desktop/robotics%20lab/chess_piece_recog/model.ipynb#X10sZmlsZQ%3D%3D?line=6'>7</a>\u001b[0m     optimiser\u001b[39m.\u001b[39mzero_grad()\n\u001b[0;32m----> <a href='vscode-notebook-cell:/Users/kunalshah/Desktop/robotics%20lab/chess_piece_recog/model.ipynb#X10sZmlsZQ%3D%3D?line=7'>8</a>\u001b[0m     loss\u001b[39m.\u001b[39;49mbackward()\n\u001b[1;32m      <a href='vscode-notebook-cell:/Users/kunalshah/Desktop/robotics%20lab/chess_piece_recog/model.ipynb#X10sZmlsZQ%3D%3D?line=8'>9</a>\u001b[0m     optimiser\u001b[39m.\u001b[39mstep()\n\u001b[1;32m     <a href='vscode-notebook-cell:/Users/kunalshah/Desktop/robotics%20lab/chess_piece_recog/model.ipynb#X10sZmlsZQ%3D%3D?line=10'>11</a>\u001b[0m \u001b[39mprint\u001b[39m(epochs, \u001b[39m\"\u001b[39m\u001b[39m:\u001b[39m\u001b[39m\"\u001b[39m, loss\u001b[39m.\u001b[39mitem())\n",
      "File \u001b[0;32m~/miniconda3/envs/intro/lib/python3.8/site-packages/torch/_tensor.py:396\u001b[0m, in \u001b[0;36mTensor.backward\u001b[0;34m(self, gradient, retain_graph, create_graph, inputs)\u001b[0m\n\u001b[1;32m    387\u001b[0m \u001b[39mif\u001b[39;00m has_torch_function_unary(\u001b[39mself\u001b[39m):\n\u001b[1;32m    388\u001b[0m     \u001b[39mreturn\u001b[39;00m handle_torch_function(\n\u001b[1;32m    389\u001b[0m         Tensor\u001b[39m.\u001b[39mbackward,\n\u001b[1;32m    390\u001b[0m         (\u001b[39mself\u001b[39m,),\n\u001b[0;32m   (...)\u001b[0m\n\u001b[1;32m    394\u001b[0m         create_graph\u001b[39m=\u001b[39mcreate_graph,\n\u001b[1;32m    395\u001b[0m         inputs\u001b[39m=\u001b[39minputs)\n\u001b[0;32m--> 396\u001b[0m torch\u001b[39m.\u001b[39;49mautograd\u001b[39m.\u001b[39;49mbackward(\u001b[39mself\u001b[39;49m, gradient, retain_graph, create_graph, inputs\u001b[39m=\u001b[39;49minputs)\n",
      "File \u001b[0;32m~/miniconda3/envs/intro/lib/python3.8/site-packages/torch/autograd/__init__.py:173\u001b[0m, in \u001b[0;36mbackward\u001b[0;34m(tensors, grad_tensors, retain_graph, create_graph, grad_variables, inputs)\u001b[0m\n\u001b[1;32m    168\u001b[0m     retain_graph \u001b[39m=\u001b[39m create_graph\n\u001b[1;32m    170\u001b[0m \u001b[39m# The reason we repeat same the comment below is that\u001b[39;00m\n\u001b[1;32m    171\u001b[0m \u001b[39m# some Python versions print out the first line of a multi-line function\u001b[39;00m\n\u001b[1;32m    172\u001b[0m \u001b[39m# calls in the traceback and some print out the last line\u001b[39;00m\n\u001b[0;32m--> 173\u001b[0m Variable\u001b[39m.\u001b[39;49m_execution_engine\u001b[39m.\u001b[39;49mrun_backward(  \u001b[39m# Calls into the C++ engine to run the backward pass\u001b[39;49;00m\n\u001b[1;32m    174\u001b[0m     tensors, grad_tensors_, retain_graph, create_graph, inputs,\n\u001b[1;32m    175\u001b[0m     allow_unreachable\u001b[39m=\u001b[39;49m\u001b[39mTrue\u001b[39;49;00m, accumulate_grad\u001b[39m=\u001b[39;49m\u001b[39mTrue\u001b[39;49;00m)\n",
      "\u001b[0;31mKeyboardInterrupt\u001b[0m: "
     ]
    }
   ],
   "source": [
    "for epochs in range(num_epochs):\n",
    "    for i in range(len(x)):\n",
    "        outputs = model.forward(x[i].reshape(1,100,100))\n",
    "        loss = criterion(outputs,y[i].reshape(1))\n",
    "\n",
    "        #backward\n",
    "        optimiser.zero_grad()\n",
    "        loss.backward()\n",
    "        optimiser.step()\n",
    "\n",
    "    print(epochs, \":\", loss.item())"
   ]
  },
  {
   "cell_type": "code",
   "execution_count": 181,
   "metadata": {},
   "outputs": [
    {
     "data": {
      "text/plain": [
       "<matplotlib.image.AxesImage at 0x7fe596b76730>"
      ]
     },
     "execution_count": 181,
     "metadata": {},
     "output_type": "execute_result"
    },
    {
     "data": {
      "image/png": "[encoded data removed]",
      "text/plain": [
       "<Figure size 640x480 with 1 Axes>"
      ]
     },
     "metadata": {},
     "output_type": "display_data"
    }
   ],
   "source": [
    "bleh = x[0].reshape(1,100,100)\n",
    "out = model.forward(bleh)\n",
    "plt.imshow(x[0])"
   ]
  },
  {
   "cell_type": "code",
   "execution_count": 180,
   "metadata": {},
   "outputs": [
    {
     "data": {
      "text/plain": [
       "tensor([[0.0087, 0.0005, 0.0210, 0.0111, 0.0149, 0.0042]],\n",
       "       grad_fn=<AddmmBackward0>)"
      ]
     },
     "execution_count": 180,
     "metadata": {},
     "output_type": "execute_result"
    }
   ],
   "source": [
    "out"
   ]
  },
  {
   "cell_type": "code",
   "execution_count": 121,
   "metadata": {},
   "outputs": [
    {
     "name": "stdout",
     "output_type": "stream",
     "text": [
      "torch.Size([1, 10000])\n"
     ]
    }
   ],
   "source": [
    "\n",
    "bleh = bleh.view(-1,10000)\n",
    "print(bleh.shape)"
   ]
  },
  {
   "cell_type": "code",
   "execution_count": 133,
   "metadata": {},
   "outputs": [
    {
     "data": {
      "text/plain": [
       "torch.Size([1, 6])"
      ]
     },
     "execution_count": 133,
     "metadata": {},
     "output_type": "execute_result"
    }
   ],
   "source": [
    "model.forward(bleh.reshape(1,100,100)).shape"
   ]
  },
  {
   "cell_type": "code",
   "execution_count": 169,
   "metadata": {},
   "outputs": [
    {
     "data": {
      "text/plain": [
       "tensor([1])"
      ]
     },
     "execution_count": 169,
     "metadata": {},
     "output_type": "execute_result"
    }
   ],
   "source": [
    "yn = y[0].reshape(1)\n",
    "yn\n"
   ]
  },
  {
   "cell_type": "code",
   "execution_count": 170,
   "metadata": {},
   "outputs": [
    {
     "data": {
      "text/plain": [
       "tensor(1)"
      ]
     },
     "execution_count": 170,
     "metadata": {},
     "output_type": "execute_result"
    }
   ],
   "source": [
    "y[0]"
   ]
  },
  {
   "cell_type": "code",
   "execution_count": null,
   "metadata": {},
   "outputs": [],
   "source": []
  }
 ],
 "metadata": {
  "kernelspec": {
   "display_name": "Python 3.8.13 ('intro')",
   "language": "python",
   "name": "python3"
  },
  "language_info": {
   "codemirror_mode": {
    "name": "ipython",
    "version": 3
   },
   "file_extension": ".py",
   "mimetype": "text/x-python",
   "name": "python",
   "nbconvert_exporter": "python",
   "pygments_lexer": "ipython3",
   "version": "3.8.13"
  },
  "orig_nbformat": 4,
  "vscode": {
   "interpreter": {
    "hash": "aeb5268d59bfb7e8b35a1cf3133e3930c0b4464f52a295197c6b40f64f6a492a"
   }
  }
 },
 "nbformat": 4,
 "nbformat_minor": 2
}
