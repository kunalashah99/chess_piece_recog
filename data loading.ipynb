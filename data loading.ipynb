{
 "cells": [
  {
   "cell_type": "code",
   "execution_count": 1,
   "metadata": {},
   "outputs": [],
   "source": [
    "import cv2\n",
    "import torch\n",
    "import torch.nn as nn\n",
    "import numpy as np\n",
    "import matplotlib.pyplot as plt\n",
    "import random\n",
    "import os\n",
    "import pickle as pkl"
   ]
  },
  {
   "cell_type": "code",
   "execution_count": 2,
   "metadata": {},
   "outputs": [],
   "source": [
    "dir = \"/Users/kunalshah/Desktop/robotics lab/chess_piece_recog/Chessman-image-dataset/Chess\"\n",
    "categories = ['Bishop','King','Knight','Pawn','Queen','Rook']\n",
    "img_size = 100\n",
    "data = []\n",
    "data1 = []\n",
    "not_i = 0\n",
    "skipped = []\n",
    "for category in categories:\n",
    "    folder = os.path.join(dir, category)\n",
    "    label = categories.index(category)\n",
    "    # print(folder)\n",
    "    i = 0\n",
    "    for img in os.listdir(folder):\n",
    "        img_path = os.path.join(folder, img)\n",
    "        if img_path.split('.')[1] not in [\"jpg\", 'png', 'jpeg', 'JPG', 'fcgi', 'webp', 'php']:\n",
    "            not_i+=1\n",
    "            skipped.append(img_path)\n",
    "            continue\n",
    "        # print(img_path)\n",
    "\n",
    "        img_arr_color = cv2.imread(img_path)\n",
    "        img_arr = cv2.cvtColor(img_arr_color, cv2.COLOR_BGR2GRAY)\n",
    "        img_arr = cv2.resize(img_arr, (img_size, img_size))\n",
    "        if i >= 76:\n",
    "            data1.append([img_arr, label])\n",
    "            i+=1 \n",
    "            continue\n",
    "        # plt.imshow(img_arr, cmap = 'gray')\n",
    "        data.append([img_arr, label])\n",
    "        i+=1\n",
    "\n"
   ]
  },
  {
   "cell_type": "code",
   "execution_count": 8,
   "metadata": {},
   "outputs": [],
   "source": [
    "random.shuffle(data)"
   ]
  },
  {
   "cell_type": "code",
   "execution_count": 9,
   "metadata": {},
   "outputs": [
    {
     "name": "stdout",
     "output_type": "stream",
     "text": [
      "Queen\n"
     ]
    },
    {
     "data": {
      "image/png": "[encoded data removed]",
      "text/plain": [
       "<Figure size 640x480 with 1 Axes>"
      ]
     },
     "metadata": {},
     "output_type": "display_data"
    }
   ],
   "source": [
    "i = 105\n",
    "plt.imshow(data[i][0], cmap = 'gray')\n",
    "print(categories[data[i][1]])"
   ]
  },
  {
   "cell_type": "code",
   "execution_count": 11,
   "metadata": {},
   "outputs": [],
   "source": [
    "x = []\n",
    "y = []\n",
    "for features, labels in data:\n",
    "    x.append(features)\n",
    "    y.append(labels)\n",
    "\n",
    "x = np.array(x)\n",
    "y = np.array(y)\n",
    "\n",
    "\n"
   ]
  },
  {
   "cell_type": "code",
   "execution_count": 15,
   "metadata": {},
   "outputs": [],
   "source": [
    "pkl.dump(x, (open('x.pkl','wb')))\n",
    "pkl.dump(y, (open('y.pkl','wb')))"
   ]
  },
  {
   "cell_type": "code",
   "execution_count": null,
   "metadata": {},
   "outputs": [],
   "source": []
  }
 ],
 "metadata": {
  "kernelspec": {
   "display_name": "Python 3.8.13 ('intro')",
   "language": "python",
   "name": "python3"
  },
  "language_info": {
   "codemirror_mode": {
    "name": "ipython",
    "version": 3
   },
   "file_extension": ".py",
   "mimetype": "text/x-python",
   "name": "python",
   "nbconvert_exporter": "python",
   "pygments_lexer": "ipython3",
   "version": "3.8.13"
  },
  "orig_nbformat": 4,
  "vscode": {
   "interpreter": {
    "hash": "aeb5268d59bfb7e8b35a1cf3133e3930c0b4464f52a295197c6b40f64f6a492a"
   }
  }
 },
 "nbformat": 4,
 "nbformat_minor": 2
}
